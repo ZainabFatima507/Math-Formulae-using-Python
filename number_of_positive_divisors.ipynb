{
 "cells": [
  {
   "cell_type": "markdown",
   "metadata": {},
   "source": [
    "# Number of Positive Divisors"
   ]
  },
  {
   "cell_type": "code",
   "execution_count": 5,
   "metadata": {},
   "outputs": [
    {
     "name": "stdout",
     "output_type": "stream",
     "text": [
      "Type a number: 999999999999999999999999999999999999999999999999999999999999999999999999999999999999999999999999999999999999999999999999999999999999999999999999999999999999999999999999999999999999999999999999999999999999999999999999999999999999999999999999999999999999999999999999999999999999999999999999999999999999999999999999999999999999999999999999999999999999999999999999999999ol\n"
     ]
    },
    {
     "ename": "ValueError",
     "evalue": "invalid literal for int() with base 10: '9999999999999999999999999999999999999999999999999999999999999999999999999999999999999999999999999999999999999999999999999999999999999999999999999999999999999999999999999999999999999999999999999999999",
     "output_type": "error",
     "traceback": [
      "\u001b[1;31m---------------------------------------------------------------------------\u001b[0m",
      "\u001b[1;31mValueError\u001b[0m                                Traceback (most recent call last)",
      "\u001b[1;32m<ipython-input-5-e4ae51ae46be>\u001b[0m in \u001b[0;36m<module>\u001b[1;34m\u001b[0m\n\u001b[0;32m     36\u001b[0m     \u001b[1;32mreturn\u001b[0m \u001b[0mlist_factors\u001b[0m\u001b[1;33m\u001b[0m\u001b[1;33m\u001b[0m\u001b[0m\n\u001b[0;32m     37\u001b[0m \u001b[1;33m\u001b[0m\u001b[0m\n\u001b[1;32m---> 38\u001b[1;33m \u001b[0mw\u001b[0m\u001b[1;33m=\u001b[0m\u001b[0mint\u001b[0m\u001b[1;33m(\u001b[0m\u001b[0minput\u001b[0m\u001b[1;33m(\u001b[0m\u001b[1;34m\"Type a number: \"\u001b[0m\u001b[1;33m)\u001b[0m\u001b[1;33m)\u001b[0m\u001b[1;33m\u001b[0m\u001b[1;33m\u001b[0m\u001b[0m\n\u001b[0m\u001b[0;32m     39\u001b[0m \u001b[0mlf\u001b[0m\u001b[1;33m=\u001b[0m\u001b[0mprime_factorization\u001b[0m\u001b[1;33m(\u001b[0m\u001b[0mw\u001b[0m\u001b[1;33m)\u001b[0m\u001b[1;33m\u001b[0m\u001b[1;33m\u001b[0m\u001b[0m\n\u001b[0;32m     40\u001b[0m \u001b[1;32mif\u001b[0m \u001b[0mw\u001b[0m\u001b[1;33m==\u001b[0m\u001b[1;36m1\u001b[0m\u001b[1;33m:\u001b[0m\u001b[1;33m\u001b[0m\u001b[1;33m\u001b[0m\u001b[0m\n",
      "\u001b[1;31mValueError\u001b[0m: invalid literal for int() with base 10: '9999999999999999999999999999999999999999999999999999999999999999999999999999999999999999999999999999999999999999999999999999999999999999999999999999999999999999999999999999999999999999999999999999999"
     ]
    }
   ],
   "source": [
    "def prime(m):\n",
    "    list=[]\n",
    "    b=m+1\n",
    "    for i in range(1,b):\n",
    "        if m%i==0:\n",
    "            list.append(i)\n",
    "        else: continue\n",
    "    if len(list)>2:\n",
    "        return False\n",
    "    else:\n",
    "        return True    \n",
    "        \n",
    "def prime_factorization(n):\n",
    "    prod=1\n",
    "    list_divisors=[]\n",
    "    b=n+1\n",
    "    for i in range(1,b):\n",
    "        if n%i==0:\n",
    "            list_divisors.append(i)\n",
    "        else: continue\n",
    "    list_prime_factors=[]\n",
    "    for i in list_divisors:\n",
    "        if prime(i)==True:\n",
    "            prod=prod*i\n",
    "            list_prime_factors.append(i)\n",
    "        else: continue\n",
    "\n",
    "    list_factors=[]\n",
    "    for j in list_prime_factors:\n",
    "        if j!=1:\n",
    "            for k in range(1,50):\n",
    "                if n%(j**k)==0:\n",
    "                    list_factors.append(j)\n",
    "                else: continue\n",
    "            else: continue\n",
    "    return list_factors\n",
    "            \n",
    "w=int(input(\"Type a number: \"))\n",
    "lf=prime_factorization(w)\n",
    "if w==1:\n",
    "    print(\"Number of positive divisors of\",w,\"is 1\")\n",
    "else:\n",
    "    list_powers=[]\n",
    "    set1=set(lf)\n",
    "    for z in set1:\n",
    "        counter=lf.count(z)\n",
    "        list_powers.append(counter)\n",
    "    \n",
    "    \n",
    "ft=1\n",
    "    \n",
    "for ts in list_powers:\n",
    "    ft=ft*(ts+1)\n",
    "       \n",
    "print(\"Number of positive divisors of\",w,\"is\",ft)\n",
    "\n",
    "        \n",
    "        \n",
    "    "
   ]
  },
  {
   "cell_type": "code",
   "execution_count": 3,
   "metadata": {},
   "outputs": [
    {
     "name": "stdout",
     "output_type": "stream",
     "text": [
      "<class 'int'>\n",
      "[2, 1]\n"
     ]
    }
   ],
   "source": [
    "list1=[3,3,5]\n",
    "list2=[]\n",
    "set1=set(list1)\n",
    "for i in set1:\n",
    "    counter=list1.count(i)\n",
    "    list2.append(counter)\n",
    "print(type(counter))\n",
    "print(list2)\n",
    "    "
   ]
  },
  {
   "cell_type": "code",
   "execution_count": null,
   "metadata": {},
   "outputs": [],
   "source": []
  },
  {
   "cell_type": "code",
   "execution_count": null,
   "metadata": {},
   "outputs": [],
   "source": []
  }
 ],
 "metadata": {
  "kernelspec": {
   "display_name": "Python 3",
   "language": "python",
   "name": "python3"
  },
  "language_info": {
   "codemirror_mode": {
    "name": "ipython",
    "version": 3
   },
   "file_extension": ".py",
   "mimetype": "text/x-python",
   "name": "python",
   "nbconvert_exporter": "python",
   "pygments_lexer": "ipython3",
   "version": "3.9.0"
  }
 },
 "nbformat": 4,
 "nbformat_minor": 4
}
